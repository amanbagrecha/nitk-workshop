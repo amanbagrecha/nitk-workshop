{
 "cells": [
  {
   "cell_type": "code",
   "execution_count": 1,
   "id": "76d2d74f",
   "metadata": {},
   "outputs": [
    {
     "name": "stdout",
     "output_type": "stream",
     "text": [
      "Copernicus Data Space Ecosystem (CDSE) asset-level STAC catalogue\n",
      "A comprehensive and searchable catalog of Earth observation and scientific datasets that is actively maintained and updated by the Copernicus Data Space Ecosystem. The integrated STAC (SpatioTemporal Asset Catalog) API, which follows the open STAC specification, enables users to access detailed asset-level metadata, including spatial information, temporal coverage, and data specifications. This standardized interface facilitates efficient data discovery and retrieval across the extensive collection of environmental and scientific resources. More information: https://documentation.dataspace.copernicus.eu/\n"
     ]
    }
   ],
   "source": [
    "from pystac_client import Client\n",
    "\n",
    "API_URL = \"https://stac.dataspace.copernicus.eu/v1/\"\n",
    "cat = Client.open(API_URL, headers={\"User-Agent\": \"pystac-client\"})\n",
    "print(cat.title)\n",
    "print(cat.description)\n"
   ]
  },
  {
   "cell_type": "markdown",
   "id": "bd383bd1",
   "metadata": {},
   "source": [
    "### List available collection"
   ]
  },
  {
   "cell_type": "code",
   "execution_count": 4,
   "id": "66d9c9bf",
   "metadata": {},
   "outputs": [
    {
     "name": "stdout",
     "output_type": "stream",
     "text": [
      "cop-dem-glo-30-dged-cog\n",
      "cop-dem-glo-90-dged-cog\n",
      "sentinel-1-global-mosaics\n",
      "sentinel-1-grd\n",
      "sentinel-1-slc\n",
      "sentinel-1-slc-wv\n",
      "sentinel-2-global-mosaics\n",
      "sentinel-2-l1c\n",
      "sentinel-2-l2a\n",
      "sentinel-3-olci-1-efr-nrt\n",
      "sentinel-3-olci-1-efr-ntc\n",
      "sentinel-3-olci-1-err-nrt\n",
      "sentinel-3-olci-1-err-ntc\n",
      "sentinel-3-olci-2-lfr-nrt\n",
      "sentinel-3-olci-2-lfr-ntc\n",
      "sentinel-3-olci-2-lrr-nrt\n",
      "sentinel-3-olci-2-lrr-ntc\n",
      "sentinel-3-olci-2-wfr-nrt\n",
      "sentinel-3-olci-2-wfr-ntc\n",
      "sentinel-3-olci-2-wrr-nrt\n",
      "sentinel-3-olci-2-wrr-ntc\n",
      "sentinel-3-sl-1-rbt-nrt\n",
      "sentinel-3-sl-1-rbt-ntc\n",
      "sentinel-3-sl-2-aod-nrt\n",
      "sentinel-3-sl-2-frp-nrt\n",
      "sentinel-3-sl-2-frp-ntc\n",
      "sentinel-3-sl-2-lst-nrt\n",
      "sentinel-3-sl-2-lst-ntc\n",
      "sentinel-3-sl-2-wst-nrt\n",
      "sentinel-3-sl-2-wst-ntc\n",
      "sentinel-3-sr-1-sra-a-nrt\n",
      "sentinel-3-sr-1-sra-a-ntc\n",
      "sentinel-3-sr-1-sra-a-stc\n",
      "sentinel-3-sr-1-sra-nrt\n",
      "sentinel-3-sr-1-sra-ntc\n",
      "sentinel-3-sr-1-sra-stc\n",
      "sentinel-3-sr-2-lan-hy-nrt\n",
      "sentinel-3-sr-2-lan-hy-ntc\n",
      "sentinel-3-sr-2-lan-hy-stc\n",
      "sentinel-3-sr-2-lan-li-nrt\n",
      "sentinel-3-sr-2-lan-li-ntc\n",
      "sentinel-3-sr-2-lan-li-stc\n",
      "sentinel-3-sr-2-lan-nrt\n",
      "sentinel-3-sr-2-lan-ntc\n",
      "sentinel-3-sr-2-lan-si-nrt\n",
      "sentinel-3-sr-2-lan-si-ntc\n",
      "sentinel-3-sr-2-lan-si-stc\n",
      "sentinel-3-sr-2-lan-stc\n",
      "sentinel-3-sr-2-wat-nrt\n",
      "sentinel-3-sr-2-wat-ntc\n",
      "sentinel-3-sr-2-wat-stc\n",
      "sentinel-3-syn-2-aod-ntc\n",
      "sentinel-3-syn-2-syn-ntc\n",
      "sentinel-3-syn-2-syn-stc\n",
      "sentinel-3-syn-2-v10-ntc\n",
      "sentinel-3-syn-2-v10-stc\n",
      "sentinel-3-syn-2-vg1-ntc\n",
      "sentinel-3-syn-2-vg1-stc\n",
      "sentinel-3-syn-2-vgp-ntc\n",
      "sentinel-3-syn-2-vgp-stc\n",
      "sentinel-5p-l1-ra-bd1-nrti\n",
      "sentinel-5p-l1-ra-bd1-offl\n",
      "sentinel-5p-l1-ra-bd1-rpro\n",
      "sentinel-5p-l1-ra-bd2-nrti\n",
      "sentinel-5p-l1-ra-bd2-offl\n",
      "sentinel-5p-l1-ra-bd2-rpro\n",
      "sentinel-5p-l1-ra-bd3-nrti\n",
      "sentinel-5p-l1-ra-bd3-offl\n",
      "sentinel-5p-l1-ra-bd3-rpro\n",
      "sentinel-5p-l1-ra-bd4-nrti\n",
      "sentinel-5p-l1-ra-bd4-offl\n",
      "sentinel-5p-l1-ra-bd4-rpro\n",
      "sentinel-5p-l1-ra-bd5-nrti\n",
      "sentinel-5p-l1-ra-bd5-offl\n",
      "sentinel-5p-l1-ra-bd5-rpro\n",
      "sentinel-5p-l1-ra-bd6-nrti\n",
      "sentinel-5p-l1-ra-bd6-offl\n",
      "sentinel-5p-l1-ra-bd6-rpro\n",
      "sentinel-5p-l1-ra-bd7-nrti\n",
      "sentinel-5p-l1-ra-bd7-offl\n",
      "sentinel-5p-l1-ra-bd7-rpro\n",
      "sentinel-5p-l1-ra-bd8-nrti\n",
      "sentinel-5p-l1-ra-bd8-offl\n",
      "sentinel-5p-l1-ra-bd8-rpro\n",
      "sentinel-5p-l2-aer-ai-nrti\n",
      "sentinel-5p-l2-aer-ai-offl\n",
      "sentinel-5p-l2-aer-ai-rpro\n",
      "sentinel-5p-l2-aer-lh-nrti\n",
      "sentinel-5p-l2-aer-lh-offl\n",
      "sentinel-5p-l2-aer-lh-rpro\n",
      "sentinel-5p-l2-ch4-offl\n",
      "sentinel-5p-l2-ch4-rpro\n",
      "sentinel-5p-l2-cloud-nrti\n",
      "sentinel-5p-l2-cloud-offl\n",
      "sentinel-5p-l2-cloud-rpro\n",
      "sentinel-5p-l2-co-nrti\n",
      "sentinel-5p-l2-co-offl\n",
      "sentinel-5p-l2-co-rpro\n",
      "sentinel-5p-l2-hcho-nrti\n",
      "sentinel-5p-l2-hcho-offl\n",
      "sentinel-5p-l2-hcho-rpro\n",
      "sentinel-5p-l2-no2-nrti\n",
      "sentinel-5p-l2-no2-offl\n",
      "sentinel-5p-l2-no2-rpro\n",
      "sentinel-5p-l2-np-bd3-offl\n",
      "sentinel-5p-l2-np-bd3-rpro\n",
      "sentinel-5p-l2-np-bd6-offl\n",
      "sentinel-5p-l2-np-bd6-rpro\n",
      "sentinel-5p-l2-np-bd7-offl\n",
      "sentinel-5p-l2-np-bd7-rpro\n",
      "sentinel-5p-l2-o3-nrti\n",
      "sentinel-5p-l2-o3-offl\n",
      "sentinel-5p-l2-o3-pr-nrti\n",
      "sentinel-5p-l2-o3-pr-offl\n",
      "sentinel-5p-l2-o3-pr-rpro\n",
      "sentinel-5p-l2-o3-rpro\n",
      "sentinel-5p-l2-o3-tcl-nrti\n",
      "sentinel-5p-l2-o3-tcl-offl\n",
      "sentinel-5p-l2-o3-tcl-rpro\n",
      "sentinel-5p-l2-so2-nrti\n",
      "sentinel-5p-l2-so2-offl\n",
      "sentinel-5p-l2-so2-rpro\n"
     ]
    }
   ],
   "source": [
    "cols = {c.id: c for c in cat.get_collections()}\n",
    "for k in sorted(cols):\n",
    "    print(k)\n"
   ]
  },
  {
   "cell_type": "code",
   "execution_count": 5,
   "id": "26c9cd16",
   "metadata": {},
   "outputs": [
    {
     "name": "stdout",
     "output_type": "stream",
     "text": [
      "{'bbox': [[-180, -90, 180, 90]]} {'interval': [['2015-06-27T10:25:31Z', None]]}\n"
     ]
    }
   ],
   "source": [
    "# Tip: You can inspect one:\n",
    "s2 = cols[\"sentinel-2-l2a\"]; print(s2.extent.spatial.to_dict(), s2.extent.temporal.to_dict())"
   ]
  },
  {
   "cell_type": "code",
   "execution_count": 6,
   "id": "e571f2d2",
   "metadata": {},
   "outputs": [
    {
     "name": "stdout",
     "output_type": "stream",
     "text": [
      "{\n",
      "  \"$id\": \"https://stac.dataspace.copernicus.eu/v1/collections/sentinel-2-l2a/queryables\",\n",
      "  \"type\": \"object\",\n",
      "  \"title\": \"STAC Queryables.\",\n",
      "  \"$schema\": \"http://json-schema.org/draft-07/schema#\",\n",
      "  \"properties\": {\n",
      "    \"id\": {\n",
      "      \"type\": \"string\",\n",
      "      \"title\": \"Item ID\",\n",
      "      \"minLength\": 1,\n",
      "      \"description\": \"Item identifier\"\n",
      "    },\n",
      "    \"datetime\": {\n",
      "      \"type\": \"string\",\n",
      "      \"title\": \"Acquired\",\n",
      "      \"format\": \"date-time\",\n",
      "      \"pattern\": \"(\\\\+00:00|Z)$\",\n",
      "      \"description\": \"Datetime\"\n",
      "    },\n",
      "    \"geometry\": {\n",
      "      \"$ref\": \"https://geojson.org/schema/Feature.json\",\n",
      "      \"title\": \"Item Geometry\",\n",
      "      \"description\": \"Item Geometry\"\n",
      "    },\n",
      "    \"platform\": {\n",
      "      \"enum\": [\n",
      "        \"sentinel-2a\",\n",
      "        \"sentinel-2b\",\n",
      "        \"sentinel-2c\"\n",
      "      ],\n",
      "      \"type\": \"string\",\n",
      "      \"title\": \"Platform\",\n",
      "      \"description\": \"Satellite platform identifier\"\n",
      "    },\n",
      "    \"grid:code\": {\n",
      "      \"type\": \"string\",\n",
      "      \"title\": \"Grid Code\",\n",
      "      \"pattern\": \"^[A-Z0-9]+-[-_.A-Za-z0-9]+$\",\n",
      "      \"description\": \"Grid Code\"\n",
      "    },\n",
      "    \"published\": {\n",
      "      \"type\": \"string\",\n",
      "      \"title\": \"Published\",\n",
      "      \"format\": \"date-time\",\n",
      "      \"description\": \"Publication date and time of a product in the CDSE repository\"\n",
      "    },\n",
      "    \"eo:snow_cover\": {\n",
      "      \"type\": \"number\",\n",
      "      \"title\": \"Snow Cover\",\n",
      "      \"maximum\": 100,\n",
      "      \"minimum\": 0,\n",
      "      \"description\": \"Snow cover in percent\"\n",
      "    },\n",
      "    \"eo:cloud_cover\": {\n",
      "      \"type\": \"number\",\n",
      "      \"title\": \"Cloud Cover\",\n",
      "      \"maximum\": 100,\n",
      "      \"minimum\": 0,\n",
      "      \"description\": \"Cloud cover in percent\"\n",
      "    },\n",
      "    \"sat:orbit_state\": {\n",
      "      \"enum\": [\n",
      "        \"ascending\",\n",
      "        \"descending\",\n",
      "        \"geostationary\"\n",
      "      ],\n",
      "      \"type\": \"string\",\n",
      "      \"title\": \"Orbit State\",\n",
      "      \"description\": \"The state of the orbit: ascending or descending for polar orbiting satellites, or geostationary for geosynchronous satellites\"\n",
      "    },\n",
      "    \"processing:version\": {\n",
      "      \"type\": \"string\",\n",
      "      \"title\": \"Processing Version\",\n"
     ]
    }
   ],
   "source": [
    "import requests, json\n",
    "q = requests.get(API_URL + \"collections/sentinel-2-l2a/queryables\").json()\n",
    "print(json.dumps(q, indent=2)[:2000])\n"
   ]
  },
  {
   "cell_type": "code",
   "execution_count": 15,
   "id": "6d1b6707",
   "metadata": {},
   "outputs": [
    {
     "name": "stdout",
     "output_type": "stream",
     "text": [
      "Found: 36\n",
      "S2C_MSIL2A_20250131T054121_N0511_R005_T43QCB_20250131T124701 3.793617\n"
     ]
    }
   ],
   "source": [
    "from datetime import date\n",
    "\n",
    "search = cat.search(\n",
    "    collections=[\"sentinel-2-l2a\"],\n",
    "    bbox=[72.7, 18.8, 73.1, 19.3],                     # Mumbai region (example)\n",
    "    datetime=f\"{date(2025,1,1)}/{date(2025,1,31)}\",    # Jan 2025\n",
    "    max_items=50,\n",
    "    query={\"eo:cloud_cover\": {\"lt\": 15}}\n",
    "    # filter = {\"op\": \"<\", \"args\": [{\"property\": \"eo:cloud_cover\"}, 15]},\n",
    "    # filter_lang=\"cql2-json\",\n",
    "    \n",
    ")\n",
    "items = list(search.items())\n",
    "print(\"Found:\", len(items))\n",
    "print(items[0].id, items[0].properties.get(\"eo:cloud_cover\"))\n"
   ]
  },
  {
   "cell_type": "code",
   "execution_count": 16,
   "id": "46299410",
   "metadata": {},
   "outputs": [
    {
     "name": "stdout",
     "output_type": "stream",
     "text": [
      "1 S2C_MSIL2A_20250131T054121_N0511_R005_T43QCB_20250131T124701\n",
      "2 S2C_MSIL2A_20250131T054121_N0511_R005_T43QBB_20250131T124701\n",
      "3 S2C_MSIL2A_20250131T054121_N0511_R005_T43QBA_20250131T124701\n",
      "4 S2C_MSIL2A_20250131T054121_N0511_R005_T42QZG_20250131T124701\n",
      "5 S2C_MSIL2A_20250131T054121_N0511_R005_T42QZF_20250131T124701\n"
     ]
    }
   ],
   "source": [
    "for i, item in enumerate(items, start=1):\n",
    "    print(i, item.id)\n",
    "    if i == 5: break"
   ]
  },
  {
   "cell_type": "code",
   "execution_count": null,
   "id": "84d85c72",
   "metadata": {},
   "outputs": [
    {
     "name": "stdout",
     "output_type": "stream",
     "text": [
      "AOT_10m -> s3://eodata/Sentinel-2/MSI/L2A/2025/01/31/S2C_MSIL2A_20250131T054121_N0511_R005_T43QCB_20250131T124701.SAFE/GRANULE/L2A_T43QCB_A002120_20250131T054332/IMG_DATA/R10m/T43QCB_20250131T054121_AOT_10m.jp2 image/jp2\n",
      "AOT_20m -> s3://eodata/Sentinel-2/MSI/L2A/2025/01/31/S2C_MSIL2A_20250131T054121_N0511_R005_T43QCB_20250131T124701.SAFE/GRANULE/L2A_T43QCB_A002120_20250131T054332/IMG_DATA/R20m/T43QCB_20250131T054121_AOT_20m.jp2 image/jp2\n",
      "AOT_60m -> s3://eodata/Sentinel-2/MSI/L2A/2025/01/31/S2C_MSIL2A_20250131T054121_N0511_R005_T43QCB_20250131T124701.SAFE/GRANULE/L2A_T43QCB_A002120_20250131T054332/IMG_DATA/R60m/T43QCB_20250131T054121_AOT_60m.jp2 image/jp2\n",
      "B01_20m -> s3://eodata/Sentinel-2/MSI/L2A/2025/01/31/S2C_MSIL2A_20250131T054121_N0511_R005_T43QCB_20250131T124701.SAFE/GRANULE/L2A_T43QCB_A002120_20250131T054332/IMG_DATA/R20m/T43QCB_20250131T054121_B01_20m.jp2 image/jp2\n",
      "B01_60m -> s3://eodata/Sentinel-2/MSI/L2A/2025/01/31/S2C_MSIL2A_20250131T054121_N0511_R005_T43QCB_20250131T124701.SAFE/GRANULE/L2A_T43QCB_A002120_20250131T054332/IMG_DATA/R60m/T43QCB_20250131T054121_B01_60m.jp2 image/jp2\n",
      "B02_10m -> s3://eodata/Sentinel-2/MSI/L2A/2025/01/31/S2C_MSIL2A_20250131T054121_N0511_R005_T43QCB_20250131T124701.SAFE/GRANULE/L2A_T43QCB_A002120_20250131T054332/IMG_DATA/R10m/T43QCB_20250131T054121_B02_10m.jp2 image/jp2\n",
      "B02_20m -> s3://eodata/Sentinel-2/MSI/L2A/2025/01/31/S2C_MSIL2A_20250131T054121_N0511_R005_T43QCB_20250131T124701.SAFE/GRANULE/L2A_T43QCB_A002120_20250131T054332/IMG_DATA/R20m/T43QCB_20250131T054121_B02_20m.jp2 image/jp2\n",
      "B02_60m -> s3://eodata/Sentinel-2/MSI/L2A/2025/01/31/S2C_MSIL2A_20250131T054121_N0511_R005_T43QCB_20250131T124701.SAFE/GRANULE/L2A_T43QCB_A002120_20250131T054332/IMG_DATA/R60m/T43QCB_20250131T054121_B02_60m.jp2 image/jp2\n",
      "B03_10m -> s3://eodata/Sentinel-2/MSI/L2A/2025/01/31/S2C_MSIL2A_20250131T054121_N0511_R005_T43QCB_20250131T124701.SAFE/GRANULE/L2A_T43QCB_A002120_20250131T054332/IMG_DATA/R10m/T43QCB_20250131T054121_B03_10m.jp2 image/jp2\n",
      "B03_20m -> s3://eodata/Sentinel-2/MSI/L2A/2025/01/31/S2C_MSIL2A_20250131T054121_N0511_R005_T43QCB_20250131T124701.SAFE/GRANULE/L2A_T43QCB_A002120_20250131T054332/IMG_DATA/R20m/T43QCB_20250131T054121_B03_20m.jp2 image/jp2\n",
      "B03_60m -> s3://eodata/Sentinel-2/MSI/L2A/2025/01/31/S2C_MSIL2A_20250131T054121_N0511_R005_T43QCB_20250131T124701.SAFE/GRANULE/L2A_T43QCB_A002120_20250131T054332/IMG_DATA/R60m/T43QCB_20250131T054121_B03_60m.jp2 image/jp2\n",
      "B04_10m -> s3://eodata/Sentinel-2/MSI/L2A/2025/01/31/S2C_MSIL2A_20250131T054121_N0511_R005_T43QCB_20250131T124701.SAFE/GRANULE/L2A_T43QCB_A002120_20250131T054332/IMG_DATA/R10m/T43QCB_20250131T054121_B04_10m.jp2 image/jp2\n",
      "B04_20m -> s3://eodata/Sentinel-2/MSI/L2A/2025/01/31/S2C_MSIL2A_20250131T054121_N0511_R005_T43QCB_20250131T124701.SAFE/GRANULE/L2A_T43QCB_A002120_20250131T054332/IMG_DATA/R20m/T43QCB_20250131T054121_B04_20m.jp2 image/jp2\n",
      "B04_60m -> s3://eodata/Sentinel-2/MSI/L2A/2025/01/31/S2C_MSIL2A_20250131T054121_N0511_R005_T43QCB_20250131T124701.SAFE/GRANULE/L2A_T43QCB_A002120_20250131T054332/IMG_DATA/R60m/T43QCB_20250131T054121_B04_60m.jp2 image/jp2\n",
      "B05_20m -> s3://eodata/Sentinel-2/MSI/L2A/2025/01/31/S2C_MSIL2A_20250131T054121_N0511_R005_T43QCB_20250131T124701.SAFE/GRANULE/L2A_T43QCB_A002120_20250131T054332/IMG_DATA/R20m/T43QCB_20250131T054121_B05_20m.jp2 image/jp2\n",
      "B05_60m -> s3://eodata/Sentinel-2/MSI/L2A/2025/01/31/S2C_MSIL2A_20250131T054121_N0511_R005_T43QCB_20250131T124701.SAFE/GRANULE/L2A_T43QCB_A002120_20250131T054332/IMG_DATA/R60m/T43QCB_20250131T054121_B05_60m.jp2 image/jp2\n",
      "B06_20m -> s3://eodata/Sentinel-2/MSI/L2A/2025/01/31/S2C_MSIL2A_20250131T054121_N0511_R005_T43QCB_20250131T124701.SAFE/GRANULE/L2A_T43QCB_A002120_20250131T054332/IMG_DATA/R20m/T43QCB_20250131T054121_B06_20m.jp2 image/jp2\n",
      "B06_60m -> s3://eodata/Sentinel-2/MSI/L2A/2025/01/31/S2C_MSIL2A_20250131T054121_N0511_R005_T43QCB_20250131T124701.SAFE/GRANULE/L2A_T43QCB_A002120_20250131T054332/IMG_DATA/R60m/T43QCB_20250131T054121_B06_60m.jp2 image/jp2\n",
      "B07_20m -> s3://eodata/Sentinel-2/MSI/L2A/2025/01/31/S2C_MSIL2A_20250131T054121_N0511_R005_T43QCB_20250131T124701.SAFE/GRANULE/L2A_T43QCB_A002120_20250131T054332/IMG_DATA/R20m/T43QCB_20250131T054121_B07_20m.jp2 image/jp2\n",
      "B07_60m -> s3://eodata/Sentinel-2/MSI/L2A/2025/01/31/S2C_MSIL2A_20250131T054121_N0511_R005_T43QCB_20250131T124701.SAFE/GRANULE/L2A_T43QCB_A002120_20250131T054332/IMG_DATA/R60m/T43QCB_20250131T054121_B07_60m.jp2 image/jp2\n",
      "B08_10m -> s3://eodata/Sentinel-2/MSI/L2A/2025/01/31/S2C_MSIL2A_20250131T054121_N0511_R005_T43QCB_20250131T124701.SAFE/GRANULE/L2A_T43QCB_A002120_20250131T054332/IMG_DATA/R10m/T43QCB_20250131T054121_B08_10m.jp2 image/jp2\n",
      "B09_60m -> s3://eodata/Sentinel-2/MSI/L2A/2025/01/31/S2C_MSIL2A_20250131T054121_N0511_R005_T43QCB_20250131T124701.SAFE/GRANULE/L2A_T43QCB_A002120_20250131T054332/IMG_DATA/R60m/T43QCB_20250131T054121_B09_60m.jp2 image/jp2\n",
      "B11_20m -> s3://eodata/Sentinel-2/MSI/L2A/2025/01/31/S2C_MSIL2A_20250131T054121_N0511_R005_T43QCB_20250131T124701.SAFE/GRANULE/L2A_T43QCB_A002120_20250131T054332/IMG_DATA/R20m/T43QCB_20250131T054121_B11_20m.jp2 image/jp2\n",
      "B11_60m -> s3://eodata/Sentinel-2/MSI/L2A/2025/01/31/S2C_MSIL2A_20250131T054121_N0511_R005_T43QCB_20250131T124701.SAFE/GRANULE/L2A_T43QCB_A002120_20250131T054332/IMG_DATA/R60m/T43QCB_20250131T054121_B11_60m.jp2 image/jp2\n",
      "B12_20m -> s3://eodata/Sentinel-2/MSI/L2A/2025/01/31/S2C_MSIL2A_20250131T054121_N0511_R005_T43QCB_20250131T124701.SAFE/GRANULE/L2A_T43QCB_A002120_20250131T054332/IMG_DATA/R20m/T43QCB_20250131T054121_B12_20m.jp2 image/jp2\n",
      "B12_60m -> s3://eodata/Sentinel-2/MSI/L2A/2025/01/31/S2C_MSIL2A_20250131T054121_N0511_R005_T43QCB_20250131T124701.SAFE/GRANULE/L2A_T43QCB_A002120_20250131T054332/IMG_DATA/R60m/T43QCB_20250131T054121_B12_60m.jp2 image/jp2\n",
      "B8A_20m -> s3://eodata/Sentinel-2/MSI/L2A/2025/01/31/S2C_MSIL2A_20250131T054121_N0511_R005_T43QCB_20250131T124701.SAFE/GRANULE/L2A_T43QCB_A002120_20250131T054332/IMG_DATA/R20m/T43QCB_20250131T054121_B8A_20m.jp2 image/jp2\n",
      "B8A_60m -> s3://eodata/Sentinel-2/MSI/L2A/2025/01/31/S2C_MSIL2A_20250131T054121_N0511_R005_T43QCB_20250131T124701.SAFE/GRANULE/L2A_T43QCB_A002120_20250131T054332/IMG_DATA/R60m/T43QCB_20250131T054121_B8A_60m.jp2 image/jp2\n",
      "Product -> https://download.dataspace.copernicus.eu/odata/v1/Products(0ea5d9b0-a6af-4c38-b8e8-deadc3dc5325)/$value application/zip\n",
      "SCL_20m -> s3://eodata/Sentinel-2/MSI/L2A/2025/01/31/S2C_MSIL2A_20250131T054121_N0511_R005_T43QCB_20250131T124701.SAFE/GRANULE/L2A_T43QCB_A002120_20250131T054332/IMG_DATA/R20m/T43QCB_20250131T054121_SCL_20m.jp2 image/jp2\n",
      "SCL_60m -> s3://eodata/Sentinel-2/MSI/L2A/2025/01/31/S2C_MSIL2A_20250131T054121_N0511_R005_T43QCB_20250131T124701.SAFE/GRANULE/L2A_T43QCB_A002120_20250131T054332/IMG_DATA/R60m/T43QCB_20250131T054121_SCL_60m.jp2 image/jp2\n",
      "TCI_10m -> s3://eodata/Sentinel-2/MSI/L2A/2025/01/31/S2C_MSIL2A_20250131T054121_N0511_R005_T43QCB_20250131T124701.SAFE/GRANULE/L2A_T43QCB_A002120_20250131T054332/IMG_DATA/R10m/T43QCB_20250131T054121_TCI_10m.jp2 image/jp2\n",
      "TCI_20m -> s3://eodata/Sentinel-2/MSI/L2A/2025/01/31/S2C_MSIL2A_20250131T054121_N0511_R005_T43QCB_20250131T124701.SAFE/GRANULE/L2A_T43QCB_A002120_20250131T054332/IMG_DATA/R20m/T43QCB_20250131T054121_TCI_20m.jp2 image/jp2\n",
      "TCI_60m -> s3://eodata/Sentinel-2/MSI/L2A/2025/01/31/S2C_MSIL2A_20250131T054121_N0511_R005_T43QCB_20250131T124701.SAFE/GRANULE/L2A_T43QCB_A002120_20250131T054332/IMG_DATA/R60m/T43QCB_20250131T054121_TCI_60m.jp2 image/jp2\n",
      "WVP_10m -> s3://eodata/Sentinel-2/MSI/L2A/2025/01/31/S2C_MSIL2A_20250131T054121_N0511_R005_T43QCB_20250131T124701.SAFE/GRANULE/L2A_T43QCB_A002120_20250131T054332/IMG_DATA/R10m/T43QCB_20250131T054121_WVP_10m.jp2 image/jp2\n",
      "WVP_20m -> s3://eodata/Sentinel-2/MSI/L2A/2025/01/31/S2C_MSIL2A_20250131T054121_N0511_R005_T43QCB_20250131T124701.SAFE/GRANULE/L2A_T43QCB_A002120_20250131T054332/IMG_DATA/R20m/T43QCB_20250131T054121_WVP_20m.jp2 image/jp2\n",
      "WVP_60m -> s3://eodata/Sentinel-2/MSI/L2A/2025/01/31/S2C_MSIL2A_20250131T054121_N0511_R005_T43QCB_20250131T124701.SAFE/GRANULE/L2A_T43QCB_A002120_20250131T054332/IMG_DATA/R60m/T43QCB_20250131T054121_WVP_60m.jp2 image/jp2\n",
      "thumbnail -> https://datahub.creodias.eu/odata/v1/Assets(0107cd8b-d0c1-479c-8683-5815f7a28f31)/$value image/jpeg\n",
      "safe_manifest -> s3://eodata/Sentinel-2/MSI/L2A/2025/01/31/S2C_MSIL2A_20250131T054121_N0511_R005_T43QCB_20250131T124701.SAFE/manifest.safe application/xml\n",
      "granule_metadata -> s3://eodata/Sentinel-2/MSI/L2A/2025/01/31/S2C_MSIL2A_20250131T054121_N0511_R005_T43QCB_20250131T124701.SAFE/GRANULE/L2A_T43QCB_A002120_20250131T054332/MTD_TL.xml application/xml\n",
      "inspire_metadata -> s3://eodata/Sentinel-2/MSI/L2A/2025/01/31/S2C_MSIL2A_20250131T054121_N0511_R005_T43QCB_20250131T124701.SAFE/INSPIRE.xml application/xml\n",
      "product_metadata -> s3://eodata/Sentinel-2/MSI/L2A/2025/01/31/S2C_MSIL2A_20250131T054121_N0511_R005_T43QCB_20250131T124701.SAFE/MTD_MSIL2A.xml application/xml\n",
      "datastrip_metadata -> s3://eodata/Sentinel-2/MSI/L2A/2025/01/31/S2C_MSIL2A_20250131T054121_N0511_R005_T43QCB_20250131T124701.SAFE/DATASTRIP/DS_2CPS_20250131T124701_S20250131T054332/MTD_DS.xml application/xml\n"
     ]
    }
   ],
   "source": [
    "item = items[0]\n",
    "for key, asset in item.assets.items():\n",
    "    print(key, \"->\", asset.href, asset.media_type)\n"
   ]
  },
  {
   "cell_type": "markdown",
   "id": "c1a95445",
   "metadata": {},
   "source": [
    "> Important: The STAC API returns metadata freely, but downloading product files often requires authorization (token) via CDSE’s download services (OData / S3 / Sentinel Hub). The STAC docs themselves do not grant data access."
   ]
  },
  {
   "cell_type": "markdown",
   "id": "91ae90e1",
   "metadata": {},
   "source": [
    "### Register to Copernicus DataSpace and generate S3 credentials; Download required scene\n",
    "\n",
    "https://documentation.dataspace.copernicus.eu/APIs/S3.html#registration"
   ]
  },
  {
   "cell_type": "code",
   "execution_count": null,
   "id": "7fdb24ed",
   "metadata": {},
   "outputs": [
    {
     "name": "stdout",
     "output_type": "stream",
     "text": [
      "done\n"
     ]
    }
   ],
   "source": [
    "import os, boto3\n",
    "\n",
    "ENDPOINT = \"https://eodata.dataspace.copernicus.eu\"\n",
    "ACCESS  = os.getenv(\"CDSE_S3_ACCESS_KEY\")   # set these in your env\n",
    "SECRET  = os.getenv(\"CDSE_S3_SECRET_KEY\")\n",
    "\n",
    "s3 = boto3.resource(\n",
    "    's3',\n",
    "    endpoint_url='https://eodata.dataspace.copernicus.eu',\n",
    "    aws_access_key_id='',\n",
    "    aws_secret_access_key='',\n",
    "    region_name='default'\n",
    ") \n",
    "\n",
    "bucket = s3.Bucket(\"eodata\")\n",
    "\n",
    "# Example: download the B04_60m band from your item\n",
    "key = (\"Sentinel-2/MSI/L2A/2025/01/31/S2C_MSIL2A_20250131T054121_N0511_R005_T43QCB_20250131T124701.SAFE/GRANULE/L2A_T43QCB_A002120_20250131T054332/IMG_DATA/R60m/T43QCB_20250131T054121_B04_60m.jp2\")\n",
    "\n",
    "bucket.download_file(key, \"B04_60m.jp2\")\n",
    "print(\"done\")\n"
   ]
  }
 ],
 "metadata": {
  "kernelspec": {
   "display_name": ".venv",
   "language": "python",
   "name": "python3"
  },
  "language_info": {
   "codemirror_mode": {
    "name": "ipython",
    "version": 3
   },
   "file_extension": ".py",
   "mimetype": "text/x-python",
   "name": "python",
   "nbconvert_exporter": "python",
   "pygments_lexer": "ipython3",
   "version": "3.11.12"
  }
 },
 "nbformat": 4,
 "nbformat_minor": 5
}
